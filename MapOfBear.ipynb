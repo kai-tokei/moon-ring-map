{
  "cells": [
    {
      "cell_type": "code",
      "execution_count": 3,
      "metadata": {
        "id": "6FeOwB1mzjtH"
      },
      "outputs": [
        {
          "name": "stdout",
          "output_type": "stream",
          "text": [
            "Collecting pandas\n",
            "  Downloading pandas-2.2.3-cp313-cp313-macosx_11_0_arm64.whl.metadata (89 kB)\n",
            "Collecting numpy\n",
            "  Using cached numpy-2.2.4-cp313-cp313-macosx_14_0_arm64.whl.metadata (62 kB)\n",
            "Collecting plotly\n",
            "  Downloading plotly-6.0.1-py3-none-any.whl.metadata (6.7 kB)\n",
            "Collecting geopandas\n",
            "  Downloading geopandas-1.0.1-py3-none-any.whl.metadata (2.2 kB)\n",
            "Requirement already satisfied: python-dateutil>=2.8.2 in ./venv/lib/python3.13/site-packages (from pandas) (2.9.0.post0)\n",
            "Collecting pytz>=2020.1 (from pandas)\n",
            "  Downloading pytz-2025.2-py2.py3-none-any.whl.metadata (22 kB)\n",
            "Collecting tzdata>=2022.7 (from pandas)\n",
            "  Downloading tzdata-2025.2-py2.py3-none-any.whl.metadata (1.4 kB)\n",
            "Collecting narwhals>=1.15.1 (from plotly)\n",
            "  Downloading narwhals-1.35.0-py3-none-any.whl.metadata (9.2 kB)\n",
            "Requirement already satisfied: packaging in ./venv/lib/python3.13/site-packages (from plotly) (24.2)\n",
            "Collecting pyogrio>=0.7.2 (from geopandas)\n",
            "  Downloading pyogrio-0.10.0-cp313-cp313-macosx_12_0_arm64.whl.metadata (5.5 kB)\n",
            "Collecting pyproj>=3.3.0 (from geopandas)\n",
            "  Downloading pyproj-3.7.1-cp313-cp313-macosx_14_0_arm64.whl.metadata (31 kB)\n",
            "Collecting shapely>=2.0.0 (from geopandas)\n",
            "  Downloading shapely-2.1.0-cp313-cp313-macosx_11_0_arm64.whl.metadata (6.8 kB)\n",
            "Requirement already satisfied: certifi in ./venv/lib/python3.13/site-packages (from pyogrio>=0.7.2->geopandas) (2025.1.31)\n",
            "Requirement already satisfied: six>=1.5 in ./venv/lib/python3.13/site-packages (from python-dateutil>=2.8.2->pandas) (1.17.0)\n",
            "Downloading pandas-2.2.3-cp313-cp313-macosx_11_0_arm64.whl (11.3 MB)\n",
            "\u001b[2K   \u001b[90m━━━━━━━━━━━━━━━━━━━━━━━━━━━━━━━━━━━━━━━━\u001b[0m \u001b[32m11.3/11.3 MB\u001b[0m \u001b[31m340.6 kB/s\u001b[0m eta \u001b[36m0:00:00\u001b[0m00:01\u001b[0m00:02\u001b[0m\n",
            "\u001b[?25hUsing cached numpy-2.2.4-cp313-cp313-macosx_14_0_arm64.whl (5.1 MB)\n",
            "Downloading plotly-6.0.1-py3-none-any.whl (14.8 MB)\n",
            "\u001b[2K   \u001b[90m━━━━━━━━━━━━━━━━━━━━━━━━━━━━━━━━━━━━━━━━\u001b[0m \u001b[32m14.8/14.8 MB\u001b[0m \u001b[31m509.6 kB/s\u001b[0m eta \u001b[36m0:00:00\u001b[0m00:01\u001b[0m00:01\u001b[0m\n",
            "\u001b[?25hDownloading geopandas-1.0.1-py3-none-any.whl (323 kB)\n",
            "Downloading narwhals-1.35.0-py3-none-any.whl (325 kB)\n",
            "Downloading pyogrio-0.10.0-cp313-cp313-macosx_12_0_arm64.whl (15.1 MB)\n",
            "\u001b[2K   \u001b[90m━━━━━━━━━━━━━━━━━━━━━━━━━━━━━━━━━━━━━━━━\u001b[0m \u001b[32m15.1/15.1 MB\u001b[0m \u001b[31m1.1 MB/s\u001b[0m eta \u001b[36m0:00:00\u001b[0ma \u001b[36m0:00:01\u001b[0m0m\n",
            "\u001b[?25hDownloading pyproj-3.7.1-cp313-cp313-macosx_14_0_arm64.whl (4.7 MB)\n",
            "\u001b[2K   \u001b[90m━━━━━━━━━━━━━━━━━━━━━━━━━━━━━━━━━━━━━━━━\u001b[0m \u001b[32m4.7/4.7 MB\u001b[0m \u001b[31m2.5 MB/s\u001b[0m eta \u001b[36m0:00:00\u001b[0ma \u001b[36m0:00:01\u001b[0m\n",
            "\u001b[?25hDownloading pytz-2025.2-py2.py3-none-any.whl (509 kB)\n",
            "Downloading shapely-2.1.0-cp313-cp313-macosx_11_0_arm64.whl (1.6 MB)\n",
            "\u001b[2K   \u001b[90m━━━━━━━━━━━━━━━━━━━━━━━━━━━━━━━━━━━━━━━━\u001b[0m \u001b[32m1.6/1.6 MB\u001b[0m \u001b[31m2.6 MB/s\u001b[0m eta \u001b[36m0:00:00\u001b[0ma \u001b[36m0:00:01\u001b[0m\n",
            "\u001b[?25hDownloading tzdata-2025.2-py2.py3-none-any.whl (347 kB)\n",
            "Installing collected packages: pytz, tzdata, pyproj, numpy, narwhals, shapely, pyogrio, plotly, pandas, geopandas\n",
            "Successfully installed geopandas-1.0.1 narwhals-1.35.0 numpy-2.2.4 pandas-2.2.3 plotly-6.0.1 pyogrio-0.10.0 pyproj-3.7.1 pytz-2025.2 shapely-2.1.0 tzdata-2025.2\n",
            "\n",
            "\u001b[1m[\u001b[0m\u001b[34;49mnotice\u001b[0m\u001b[1;39;49m]\u001b[0m\u001b[39;49m A new release of pip is available: \u001b[0m\u001b[31;49m24.2\u001b[0m\u001b[39;49m -> \u001b[0m\u001b[32;49m25.0.1\u001b[0m\n",
            "\u001b[1m[\u001b[0m\u001b[34;49mnotice\u001b[0m\u001b[1;39;49m]\u001b[0m\u001b[39;49m To update, run: \u001b[0m\u001b[32;49mpip install --upgrade pip\u001b[0m\n"
          ]
        }
      ],
      "source": [
        "!pip3 install pandas numpy plotly geopandas\n",
        "import pandas as pd\n",
        "import numpy as np\n",
        "import plotly.express as px\n",
        "import geopandas as gpd"
      ]
    },
    {
      "cell_type": "code",
      "execution_count": 4,
      "metadata": {
        "id": "UxcRqsKG1nJ4"
      },
      "outputs": [],
      "source": [
        "# Getting CSV from web site\n",
        "\n",
        "url = \"https://www.kankyo.metro.tokyo.lg.jp/documents/d/kankyo/tukinowaguma_source241212-csv\"\n",
        "\n",
        "try:\n",
        "    df = pd.read_csv(url)\n",
        "except:\n",
        "    print(\"Error\")"
      ]
    },
    {
      "cell_type": "code",
      "execution_count": 5,
      "metadata": {
        "colab": {
          "base_uri": "https://localhost:8080/",
          "height": 261
        },
        "id": "kmHelWAS19x8",
        "outputId": "6ef16b97-9e39-46b9-c689-00e770fabef6"
      },
      "outputs": [
        {
          "data": {
            "text/html": [
              "<div>\n",
              "<style scoped>\n",
              "    .dataframe tbody tr th:only-of-type {\n",
              "        vertical-align: middle;\n",
              "    }\n",
              "\n",
              "    .dataframe tbody tr th {\n",
              "        vertical-align: top;\n",
              "    }\n",
              "\n",
              "    .dataframe thead th {\n",
              "        text-align: right;\n",
              "    }\n",
              "</style>\n",
              "<table border=\"1\" class=\"dataframe\">\n",
              "  <thead>\n",
              "    <tr style=\"text-align: right;\">\n",
              "      <th></th>\n",
              "      <th>number</th>\n",
              "      <th>date</th>\n",
              "      <th>Confirmation time</th>\n",
              "      <th>cities</th>\n",
              "      <th>Adult animals</th>\n",
              "      <th>cub</th>\n",
              "      <th>unknown</th>\n",
              "      <th>total</th>\n",
              "      <th>sightings, traces, etc.</th>\n",
              "      <th>accuracy</th>\n",
              "      <th>Date of description</th>\n",
              "      <th>lat</th>\n",
              "      <th>lon</th>\n",
              "    </tr>\n",
              "  </thead>\n",
              "  <tbody>\n",
              "    <tr>\n",
              "      <th>0</th>\n",
              "      <td>1</td>\n",
              "      <td>2023/4/1</td>\n",
              "      <td>3:00</td>\n",
              "      <td>Hachioji</td>\n",
              "      <td>NaN</td>\n",
              "      <td>NaN</td>\n",
              "      <td>1.0</td>\n",
              "      <td>1</td>\n",
              "      <td>witness</td>\n",
              "      <td>middle</td>\n",
              "      <td>2023/5/25</td>\n",
              "      <td>35.670214</td>\n",
              "      <td>139.231496</td>\n",
              "    </tr>\n",
              "    <tr>\n",
              "      <th>1</th>\n",
              "      <td>2</td>\n",
              "      <td>2023/4/4</td>\n",
              "      <td>10:30</td>\n",
              "      <td>Hachioji</td>\n",
              "      <td>NaN</td>\n",
              "      <td>NaN</td>\n",
              "      <td>1.0</td>\n",
              "      <td>1</td>\n",
              "      <td>witness</td>\n",
              "      <td>middle</td>\n",
              "      <td>2023/5/25</td>\n",
              "      <td>35.688220</td>\n",
              "      <td>139.173431</td>\n",
              "    </tr>\n",
              "    <tr>\n",
              "      <th>2</th>\n",
              "      <td>3</td>\n",
              "      <td>2023/4/11</td>\n",
              "      <td>12:00</td>\n",
              "      <td>Akiruno</td>\n",
              "      <td>1.0</td>\n",
              "      <td>NaN</td>\n",
              "      <td>1.0</td>\n",
              "      <td>2</td>\n",
              "      <td>witness</td>\n",
              "      <td>middle</td>\n",
              "      <td>2023/4/21</td>\n",
              "      <td>35.763455</td>\n",
              "      <td>139.180512</td>\n",
              "    </tr>\n",
              "    <tr>\n",
              "      <th>3</th>\n",
              "      <td>4</td>\n",
              "      <td>2023/4/18</td>\n",
              "      <td>10:20</td>\n",
              "      <td>Hachioji</td>\n",
              "      <td>1.0</td>\n",
              "      <td>NaN</td>\n",
              "      <td>NaN</td>\n",
              "      <td>1</td>\n",
              "      <td>witness</td>\n",
              "      <td>middle</td>\n",
              "      <td>2023/4/21</td>\n",
              "      <td>35.638927</td>\n",
              "      <td>139.224200</td>\n",
              "    </tr>\n",
              "    <tr>\n",
              "      <th>4</th>\n",
              "      <td>5</td>\n",
              "      <td>2023/5/1</td>\n",
              "      <td>13:00</td>\n",
              "      <td>Hachioji</td>\n",
              "      <td>NaN</td>\n",
              "      <td>NaN</td>\n",
              "      <td>NaN</td>\n",
              "      <td>0</td>\n",
              "      <td>trace</td>\n",
              "      <td>middle</td>\n",
              "      <td>2023/5/12</td>\n",
              "      <td>35.650863</td>\n",
              "      <td>139.192743</td>\n",
              "    </tr>\n",
              "  </tbody>\n",
              "</table>\n",
              "</div>"
            ],
            "text/plain": [
              "   number       date Confirmation time    cities  Adult animals  cub  unknown  \\\n",
              "0       1   2023/4/1              3:00  Hachioji            NaN  NaN      1.0   \n",
              "1       2   2023/4/4             10:30  Hachioji            NaN  NaN      1.0   \n",
              "2       3  2023/4/11             12:00   Akiruno            1.0  NaN      1.0   \n",
              "3       4  2023/4/18             10:20  Hachioji            1.0  NaN      NaN   \n",
              "4       5   2023/5/1             13:00  Hachioji            NaN  NaN      NaN   \n",
              "\n",
              "   total sightings, traces, etc. accuracy Date of description        lat  \\\n",
              "0      1                 witness   middle           2023/5/25  35.670214   \n",
              "1      1                 witness   middle           2023/5/25  35.688220   \n",
              "2      2                 witness   middle           2023/4/21  35.763455   \n",
              "3      1                 witness   middle           2023/4/21  35.638927   \n",
              "4      0                   trace   middle           2023/5/12  35.650863   \n",
              "\n",
              "          lon  \n",
              "0  139.231496  \n",
              "1  139.173431  \n",
              "2  139.180512  \n",
              "3  139.224200  \n",
              "4  139.192743  "
            ]
          },
          "execution_count": 5,
          "metadata": {},
          "output_type": "execute_result"
        }
      ],
      "source": [
        "df.head()"
      ]
    },
    {
      "cell_type": "code",
      "execution_count": null,
      "metadata": {
        "colab": {
          "base_uri": "https://localhost:8080/",
          "height": 542
        },
        "id": "rF7TBtAB_1nj",
        "outputId": "bf6e6aab-853e-452c-a0fd-3d62a3adb9aa"
      },
      "outputs": [
        {
          "data": {
            "application/vnd.plotly.v1+json": {
              "config": {
                "plotlyServerURL": "https://plot.ly"
              },
              "data": [
                {
                  "hovertemplate": "lat=%{lat}<br>lon=%{lon}<extra></extra>",
                  "lat": {
                    "bdata": "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",
                    "dtype": "f8"
                  },
                  "legendgroup": "",
                  "lon": {
                    "bdata": "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",
                    "dtype": "f8"
                  },
                  "marker": {
                    "color": "#636efa"
                  },
                  "mode": "markers",
                  "name": "",
                  "showlegend": false,
                  "subplot": "map",
                  "type": "scattermap"
                }
              ],
              "layout": {
                "autosize": true,
                "hovermode": "closest",
                "legend": {
                  "tracegroupgap": 0
                },
                "map": {
                  "bearing": 0,
                  "center": {
                    "lat": 35.77003435327952,
                    "lon": 139.1357641193406
                  },
                  "domain": {
                    "x": [
                      0,
                      1
                    ],
                    "y": [
                      0,
                      1
                    ]
                  },
                  "pitch": 0,
                  "style": "open-street-map",
                  "zoom": 10
                },
                "mapbox": {
                  "center": {
                    "lat": 35.77003435327952,
                    "lon": 139.1357641193406
                  },
                  "zoom": 10
                },
                "margin": {
                  "t": 60
                },
                "showlegend": false,
                "template": {
                  "data": {
                    "bar": [
                      {
                        "error_x": {
                          "color": "#2a3f5f"
                        },
                        "error_y": {
                          "color": "#2a3f5f"
                        },
                        "marker": {
                          "line": {
                            "color": "#E5ECF6",
                            "width": 0.5
                          },
                          "pattern": {
                            "fillmode": "overlay",
                            "size": 10,
                            "solidity": 0.2
                          }
                        },
                        "type": "bar"
                      }
                    ],
                    "barpolar": [
                      {
                        "marker": {
                          "line": {
                            "color": "#E5ECF6",
                            "width": 0.5
                          },
                          "pattern": {
                            "fillmode": "overlay",
                            "size": 10,
                            "solidity": 0.2
                          }
                        },
                        "type": "barpolar"
                      }
                    ],
                    "carpet": [
                      {
                        "aaxis": {
                          "endlinecolor": "#2a3f5f",
                          "gridcolor": "white",
                          "linecolor": "white",
                          "minorgridcolor": "white",
                          "startlinecolor": "#2a3f5f"
                        },
                        "baxis": {
                          "endlinecolor": "#2a3f5f",
                          "gridcolor": "white",
                          "linecolor": "white",
                          "minorgridcolor": "white",
                          "startlinecolor": "#2a3f5f"
                        },
                        "type": "carpet"
                      }
                    ],
                    "choropleth": [
                      {
                        "colorbar": {
                          "outlinewidth": 0,
                          "ticks": ""
                        },
                        "type": "choropleth"
                      }
                    ],
                    "contour": [
                      {
                        "colorbar": {
                          "outlinewidth": 0,
                          "ticks": ""
                        },
                        "colorscale": [
                          [
                            0,
                            "#0d0887"
                          ],
                          [
                            0.1111111111111111,
                            "#46039f"
                          ],
                          [
                            0.2222222222222222,
                            "#7201a8"
                          ],
                          [
                            0.3333333333333333,
                            "#9c179e"
                          ],
                          [
                            0.4444444444444444,
                            "#bd3786"
                          ],
                          [
                            0.5555555555555556,
                            "#d8576b"
                          ],
                          [
                            0.6666666666666666,
                            "#ed7953"
                          ],
                          [
                            0.7777777777777778,
                            "#fb9f3a"
                          ],
                          [
                            0.8888888888888888,
                            "#fdca26"
                          ],
                          [
                            1,
                            "#f0f921"
                          ]
                        ],
                        "type": "contour"
                      }
                    ],
                    "contourcarpet": [
                      {
                        "colorbar": {
                          "outlinewidth": 0,
                          "ticks": ""
                        },
                        "type": "contourcarpet"
                      }
                    ],
                    "heatmap": [
                      {
                        "colorbar": {
                          "outlinewidth": 0,
                          "ticks": ""
                        },
                        "colorscale": [
                          [
                            0,
                            "#0d0887"
                          ],
                          [
                            0.1111111111111111,
                            "#46039f"
                          ],
                          [
                            0.2222222222222222,
                            "#7201a8"
                          ],
                          [
                            0.3333333333333333,
                            "#9c179e"
                          ],
                          [
                            0.4444444444444444,
                            "#bd3786"
                          ],
                          [
                            0.5555555555555556,
                            "#d8576b"
                          ],
                          [
                            0.6666666666666666,
                            "#ed7953"
                          ],
                          [
                            0.7777777777777778,
                            "#fb9f3a"
                          ],
                          [
                            0.8888888888888888,
                            "#fdca26"
                          ],
                          [
                            1,
                            "#f0f921"
                          ]
                        ],
                        "type": "heatmap"
                      }
                    ],
                    "histogram": [
                      {
                        "marker": {
                          "pattern": {
                            "fillmode": "overlay",
                            "size": 10,
                            "solidity": 0.2
                          }
                        },
                        "type": "histogram"
                      }
                    ],
                    "histogram2d": [
                      {
                        "colorbar": {
                          "outlinewidth": 0,
                          "ticks": ""
                        },
                        "colorscale": [
                          [
                            0,
                            "#0d0887"
                          ],
                          [
                            0.1111111111111111,
                            "#46039f"
                          ],
                          [
                            0.2222222222222222,
                            "#7201a8"
                          ],
                          [
                            0.3333333333333333,
                            "#9c179e"
                          ],
                          [
                            0.4444444444444444,
                            "#bd3786"
                          ],
                          [
                            0.5555555555555556,
                            "#d8576b"
                          ],
                          [
                            0.6666666666666666,
                            "#ed7953"
                          ],
                          [
                            0.7777777777777778,
                            "#fb9f3a"
                          ],
                          [
                            0.8888888888888888,
                            "#fdca26"
                          ],
                          [
                            1,
                            "#f0f921"
                          ]
                        ],
                        "type": "histogram2d"
                      }
                    ],
                    "histogram2dcontour": [
                      {
                        "colorbar": {
                          "outlinewidth": 0,
                          "ticks": ""
                        },
                        "colorscale": [
                          [
                            0,
                            "#0d0887"
                          ],
                          [
                            0.1111111111111111,
                            "#46039f"
                          ],
                          [
                            0.2222222222222222,
                            "#7201a8"
                          ],
                          [
                            0.3333333333333333,
                            "#9c179e"
                          ],
                          [
                            0.4444444444444444,
                            "#bd3786"
                          ],
                          [
                            0.5555555555555556,
                            "#d8576b"
                          ],
                          [
                            0.6666666666666666,
                            "#ed7953"
                          ],
                          [
                            0.7777777777777778,
                            "#fb9f3a"
                          ],
                          [
                            0.8888888888888888,
                            "#fdca26"
                          ],
                          [
                            1,
                            "#f0f921"
                          ]
                        ],
                        "type": "histogram2dcontour"
                      }
                    ],
                    "mesh3d": [
                      {
                        "colorbar": {
                          "outlinewidth": 0,
                          "ticks": ""
                        },
                        "type": "mesh3d"
                      }
                    ],
                    "parcoords": [
                      {
                        "line": {
                          "colorbar": {
                            "outlinewidth": 0,
                            "ticks": ""
                          }
                        },
                        "type": "parcoords"
                      }
                    ],
                    "pie": [
                      {
                        "automargin": true,
                        "type": "pie"
                      }
                    ],
                    "scatter": [
                      {
                        "fillpattern": {
                          "fillmode": "overlay",
                          "size": 10,
                          "solidity": 0.2
                        },
                        "type": "scatter"
                      }
                    ],
                    "scatter3d": [
                      {
                        "line": {
                          "colorbar": {
                            "outlinewidth": 0,
                            "ticks": ""
                          }
                        },
                        "marker": {
                          "colorbar": {
                            "outlinewidth": 0,
                            "ticks": ""
                          }
                        },
                        "type": "scatter3d"
                      }
                    ],
                    "scattercarpet": [
                      {
                        "marker": {
                          "colorbar": {
                            "outlinewidth": 0,
                            "ticks": ""
                          }
                        },
                        "type": "scattercarpet"
                      }
                    ],
                    "scattergeo": [
                      {
                        "marker": {
                          "colorbar": {
                            "outlinewidth": 0,
                            "ticks": ""
                          }
                        },
                        "type": "scattergeo"
                      }
                    ],
                    "scattergl": [
                      {
                        "marker": {
                          "colorbar": {
                            "outlinewidth": 0,
                            "ticks": ""
                          }
                        },
                        "type": "scattergl"
                      }
                    ],
                    "scattermap": [
                      {
                        "marker": {
                          "colorbar": {
                            "outlinewidth": 0,
                            "ticks": ""
                          }
                        },
                        "type": "scattermap"
                      }
                    ],
                    "scattermapbox": [
                      {
                        "marker": {
                          "colorbar": {
                            "outlinewidth": 0,
                            "ticks": ""
                          }
                        },
                        "type": "scattermapbox"
                      }
                    ],
                    "scatterpolar": [
                      {
                        "marker": {
                          "colorbar": {
                            "outlinewidth": 0,
                            "ticks": ""
                          }
                        },
                        "type": "scatterpolar"
                      }
                    ],
                    "scatterpolargl": [
                      {
                        "marker": {
                          "colorbar": {
                            "outlinewidth": 0,
                            "ticks": ""
                          }
                        },
                        "type": "scatterpolargl"
                      }
                    ],
                    "scatterternary": [
                      {
                        "marker": {
                          "colorbar": {
                            "outlinewidth": 0,
                            "ticks": ""
                          }
                        },
                        "type": "scatterternary"
                      }
                    ],
                    "surface": [
                      {
                        "colorbar": {
                          "outlinewidth": 0,
                          "ticks": ""
                        },
                        "colorscale": [
                          [
                            0,
                            "#0d0887"
                          ],
                          [
                            0.1111111111111111,
                            "#46039f"
                          ],
                          [
                            0.2222222222222222,
                            "#7201a8"
                          ],
                          [
                            0.3333333333333333,
                            "#9c179e"
                          ],
                          [
                            0.4444444444444444,
                            "#bd3786"
                          ],
                          [
                            0.5555555555555556,
                            "#d8576b"
                          ],
                          [
                            0.6666666666666666,
                            "#ed7953"
                          ],
                          [
                            0.7777777777777778,
                            "#fb9f3a"
                          ],
                          [
                            0.8888888888888888,
                            "#fdca26"
                          ],
                          [
                            1,
                            "#f0f921"
                          ]
                        ],
                        "type": "surface"
                      }
                    ],
                    "table": [
                      {
                        "cells": {
                          "fill": {
                            "color": "#EBF0F8"
                          },
                          "line": {
                            "color": "white"
                          }
                        },
                        "header": {
                          "fill": {
                            "color": "#C8D4E3"
                          },
                          "line": {
                            "color": "white"
                          }
                        },
                        "type": "table"
                      }
                    ]
                  },
                  "layout": {
                    "annotationdefaults": {
                      "arrowcolor": "#2a3f5f",
                      "arrowhead": 0,
                      "arrowwidth": 1
                    },
                    "autotypenumbers": "strict",
                    "coloraxis": {
                      "colorbar": {
                        "outlinewidth": 0,
                        "ticks": ""
                      }
                    },
                    "colorscale": {
                      "diverging": [
                        [
                          0,
                          "#8e0152"
                        ],
                        [
                          0.1,
                          "#c51b7d"
                        ],
                        [
                          0.2,
                          "#de77ae"
                        ],
                        [
                          0.3,
                          "#f1b6da"
                        ],
                        [
                          0.4,
                          "#fde0ef"
                        ],
                        [
                          0.5,
                          "#f7f7f7"
                        ],
                        [
                          0.6,
                          "#e6f5d0"
                        ],
                        [
                          0.7,
                          "#b8e186"
                        ],
                        [
                          0.8,
                          "#7fbc41"
                        ],
                        [
                          0.9,
                          "#4d9221"
                        ],
                        [
                          1,
                          "#276419"
                        ]
                      ],
                      "sequential": [
                        [
                          0,
                          "#0d0887"
                        ],
                        [
                          0.1111111111111111,
                          "#46039f"
                        ],
                        [
                          0.2222222222222222,
                          "#7201a8"
                        ],
                        [
                          0.3333333333333333,
                          "#9c179e"
                        ],
                        [
                          0.4444444444444444,
                          "#bd3786"
                        ],
                        [
                          0.5555555555555556,
                          "#d8576b"
                        ],
                        [
                          0.6666666666666666,
                          "#ed7953"
                        ],
                        [
                          0.7777777777777778,
                          "#fb9f3a"
                        ],
                        [
                          0.8888888888888888,
                          "#fdca26"
                        ],
                        [
                          1,
                          "#f0f921"
                        ]
                      ],
                      "sequentialminus": [
                        [
                          0,
                          "#0d0887"
                        ],
                        [
                          0.1111111111111111,
                          "#46039f"
                        ],
                        [
                          0.2222222222222222,
                          "#7201a8"
                        ],
                        [
                          0.3333333333333333,
                          "#9c179e"
                        ],
                        [
                          0.4444444444444444,
                          "#bd3786"
                        ],
                        [
                          0.5555555555555556,
                          "#d8576b"
                        ],
                        [
                          0.6666666666666666,
                          "#ed7953"
                        ],
                        [
                          0.7777777777777778,
                          "#fb9f3a"
                        ],
                        [
                          0.8888888888888888,
                          "#fdca26"
                        ],
                        [
                          1,
                          "#f0f921"
                        ]
                      ]
                    },
                    "colorway": [
                      "#636efa",
                      "#EF553B",
                      "#00cc96",
                      "#ab63fa",
                      "#FFA15A",
                      "#19d3f3",
                      "#FF6692",
                      "#B6E880",
                      "#FF97FF",
                      "#FECB52"
                    ],
                    "font": {
                      "color": "#2a3f5f"
                    },
                    "geo": {
                      "bgcolor": "white",
                      "lakecolor": "white",
                      "landcolor": "#E5ECF6",
                      "showlakes": true,
                      "showland": true,
                      "subunitcolor": "white"
                    },
                    "hoverlabel": {
                      "align": "left"
                    },
                    "hovermode": "closest",
                    "mapbox": {
                      "style": "light"
                    },
                    "paper_bgcolor": "white",
                    "plot_bgcolor": "#E5ECF6",
                    "polar": {
                      "angularaxis": {
                        "gridcolor": "white",
                        "linecolor": "white",
                        "ticks": ""
                      },
                      "bgcolor": "#E5ECF6",
                      "radialaxis": {
                        "gridcolor": "white",
                        "linecolor": "white",
                        "ticks": ""
                      }
                    },
                    "scene": {
                      "xaxis": {
                        "backgroundcolor": "#E5ECF6",
                        "gridcolor": "white",
                        "gridwidth": 2,
                        "linecolor": "white",
                        "showbackground": true,
                        "ticks": "",
                        "zerolinecolor": "white"
                      },
                      "yaxis": {
                        "backgroundcolor": "#E5ECF6",
                        "gridcolor": "white",
                        "gridwidth": 2,
                        "linecolor": "white",
                        "showbackground": true,
                        "ticks": "",
                        "zerolinecolor": "white"
                      },
                      "zaxis": {
                        "backgroundcolor": "#E5ECF6",
                        "gridcolor": "white",
                        "gridwidth": 2,
                        "linecolor": "white",
                        "showbackground": true,
                        "ticks": "",
                        "zerolinecolor": "white"
                      }
                    },
                    "shapedefaults": {
                      "line": {
                        "color": "#2a3f5f"
                      }
                    },
                    "ternary": {
                      "aaxis": {
                        "gridcolor": "white",
                        "linecolor": "white",
                        "ticks": ""
                      },
                      "baxis": {
                        "gridcolor": "white",
                        "linecolor": "white",
                        "ticks": ""
                      },
                      "bgcolor": "#E5ECF6",
                      "caxis": {
                        "gridcolor": "white",
                        "linecolor": "white",
                        "ticks": ""
                      }
                    },
                    "title": {
                      "x": 0.05
                    },
                    "xaxis": {
                      "automargin": true,
                      "gridcolor": "white",
                      "linecolor": "white",
                      "ticks": "",
                      "title": {
                        "standoff": 15
                      },
                      "zerolinecolor": "white",
                      "zerolinewidth": 2
                    },
                    "yaxis": {
                      "automargin": true,
                      "gridcolor": "white",
                      "linecolor": "white",
                      "ticks": "",
                      "title": {
                        "standoff": 15
                      },
                      "zerolinecolor": "white",
                      "zerolinewidth": 2
                    }
                  }
                },
                "title": {
                  "text": "ツキノワグマ出没箇所"
                }
              }
            }
          },
          "metadata": {},
          "output_type": "display_data"
        }
      ],
      "source": [
        "# Plotting data\n",
        "fig = px.scatter_map(df,\n",
        "                        lat=df['lat'], lon=df['lon'],\n",
        "                        zoom=10)\n",
        "\n",
        "fig.update_layout(\n",
        "    autosize=True,\n",
        "    hovermode='closest',\n",
        "    showlegend=False,\n",
        "    map=dict(\n",
        "        bearing=0,\n",
        "        pitch=0,\n",
        "        zoom=10,\n",
        "        style='open-street-map'\n",
        "    ),\n",
        ")\n",
        "\n",
        "fig.show()"
      ]
    }
  ],
  "metadata": {
    "colab": {
      "provenance": []
    },
    "kernelspec": {
      "display_name": "venv",
      "language": "python",
      "name": "python3"
    },
    "language_info": {
      "codemirror_mode": {
        "name": "ipython",
        "version": 3
      },
      "file_extension": ".py",
      "mimetype": "text/x-python",
      "name": "python",
      "nbconvert_exporter": "python",
      "pygments_lexer": "ipython3",
      "version": "3.13.0"
    }
  },
  "nbformat": 4,
  "nbformat_minor": 0
}
